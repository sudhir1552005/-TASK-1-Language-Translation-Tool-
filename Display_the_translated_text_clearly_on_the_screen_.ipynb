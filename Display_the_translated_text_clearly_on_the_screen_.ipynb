{
  "nbformat": 4,
  "nbformat_minor": 0,
  "metadata": {
    "colab": {
      "provenance": []
    },
    "kernelspec": {
      "name": "python3",
      "display_name": "Python 3"
    },
    "language_info": {
      "name": "python"
    }
  },
  "cells": [
    {
      "cell_type": "code",
      "execution_count": 3,
      "metadata": {
        "colab": {
          "base_uri": "https://localhost:8080/"
        },
        "id": "bpnYS_DEEKqq",
        "outputId": "60c612ee-5100-4952-b656-d64fe9c89677"
      },
      "outputs": [
        {
          "output_type": "stream",
          "name": "stdout",
          "text": [
            "Original Text: Hello, how are you?\n",
            "Translated Text: హలో, మీరు ఎలా ఉన్నారు?\n"
          ]
        }
      ],
      "source": [
        "# Install the free translation library\n",
        "!pip install deep-translator --quiet\n",
        "\n",
        "# Import the translator\n",
        "from deep_translator import GoogleTranslator\n",
        "\n",
        "# === STEP 1: SET TEXT AND TARGET LANGUAGE ===\n",
        "source_text = \"Hello, how are you?\"\n",
        "target_language = \"te\"  # Telugu\n",
        "\n",
        "# === STEP 2: TRANSLATE ===\n",
        "translated_text = GoogleTranslator(source='auto', target=target_language).translate(source_text)\n",
        "\n",
        "# === STEP 3: DISPLAY THE TRANSLATED TEXT CLEARLY ON THE SCREEN ===\n",
        "print(\"Original Text:\", source_text)\n",
        "print(\"Translated Text:\", translated_text)\n"
      ]
    }
  ]
}
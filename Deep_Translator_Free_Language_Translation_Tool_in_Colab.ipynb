{
  "nbformat": 4,
  "nbformat_minor": 0,
  "metadata": {
    "colab": {
      "provenance": []
    },
    "kernelspec": {
      "name": "python3",
      "display_name": "Python 3"
    },
    "language_info": {
      "name": "python"
    }
  },
  "cells": [
    {
      "cell_type": "code",
      "execution_count": 2,
      "metadata": {
        "colab": {
          "base_uri": "https://localhost:8080/"
        },
        "id": "0UBlZOnsDXIh",
        "outputId": "f88e5f4c-f9d8-4b7a-873d-856a7fe1c1ed"
      },
      "outputs": [
        {
          "output_type": "stream",
          "name": "stdout",
          "text": [
            "Requirement already satisfied: deep-translator in /usr/local/lib/python3.11/dist-packages (1.11.4)\n",
            "Requirement already satisfied: beautifulsoup4<5.0.0,>=4.9.1 in /usr/local/lib/python3.11/dist-packages (from deep-translator) (4.13.4)\n",
            "Requirement already satisfied: requests<3.0.0,>=2.23.0 in /usr/local/lib/python3.11/dist-packages (from deep-translator) (2.32.3)\n",
            "Requirement already satisfied: soupsieve>1.2 in /usr/local/lib/python3.11/dist-packages (from beautifulsoup4<5.0.0,>=4.9.1->deep-translator) (2.7)\n",
            "Requirement already satisfied: typing-extensions>=4.0.0 in /usr/local/lib/python3.11/dist-packages (from beautifulsoup4<5.0.0,>=4.9.1->deep-translator) (4.14.0)\n",
            "Requirement already satisfied: charset-normalizer<4,>=2 in /usr/local/lib/python3.11/dist-packages (from requests<3.0.0,>=2.23.0->deep-translator) (3.4.2)\n",
            "Requirement already satisfied: idna<4,>=2.5 in /usr/local/lib/python3.11/dist-packages (from requests<3.0.0,>=2.23.0->deep-translator) (3.10)\n",
            "Requirement already satisfied: urllib3<3,>=1.21.1 in /usr/local/lib/python3.11/dist-packages (from requests<3.0.0,>=2.23.0->deep-translator) (2.4.0)\n",
            "Requirement already satisfied: certifi>=2017.4.17 in /usr/local/lib/python3.11/dist-packages (from requests<3.0.0,>=2.23.0->deep-translator) (2025.6.15)\n",
            "Original Text: Hello, how are you?\n",
            "Translated Text: హలో, మీరు ఎలా ఉన్నారు?\n"
          ]
        }
      ],
      "source": [
        "# Install the required package\n",
        "!pip install deep-translator\n",
        "\n",
        "# Import the translator\n",
        "from deep_translator import GoogleTranslator\n",
        "\n",
        "# Function to translate text\n",
        "def translate_text(text, target_language=\"te\"):\n",
        "    \"\"\"\n",
        "    Translates input text to the target language using GoogleTranslator.\n",
        "\n",
        "    Args:\n",
        "        text (str): The input text to be translated.\n",
        "        target_language (str): The language code to translate the text into.\n",
        "\n",
        "    Returns:\n",
        "        str: Translated text or error message.\n",
        "    \"\"\"\n",
        "    try:\n",
        "        translated = GoogleTranslator(source='auto', target=target_language).translate(text)\n",
        "        return translated\n",
        "    except Exception as e:\n",
        "        return f\"Error: {e}\"\n",
        "\n",
        "# Example usage\n",
        "input_text = \"Hello, how are you?\"\n",
        "target_lang = \"te\"  # Telugu\n",
        "translated_text = translate_text(input_text, target_lang)\n",
        "\n",
        "print(\"Original Text:\", input_text)\n",
        "print(\"Translated Text:\", translated_text)\n"
      ]
    }
  ]
}